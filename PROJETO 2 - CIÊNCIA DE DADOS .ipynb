{
 "cells": [
  {
   "cell_type": "code",
   "execution_count": 44,
   "metadata": {},
   "outputs": [],
   "source": [
    "%matplotlib inline\n",
    "\n",
    "import pandas as pd\n",
    "import numpy as np\n",
    "import matplotlib.pyplot as plt"
   ]
  },
  {
   "cell_type": "code",
   "execution_count": 45,
   "metadata": {},
   "outputs": [],
   "source": [
    "dados_1 = pd.read_csv(\"forbes_billionaires_geo.csv\")\n",
    "dados_2 = pd.read_csv(\"Billionaire.csv\")"
   ]
  },
  {
   "cell_type": "code",
   "execution_count": 46,
   "metadata": {},
   "outputs": [],
   "source": [
    "bilionarios = dados_1.loc[:,['Name','NetWorth','Country', 'Source','Rank','Age','Residence','Citizenship','Status','Children','Education','Self_made']]"
   ]
  },
  {
   "cell_type": "code",
   "execution_count": 47,
   "metadata": {},
   "outputs": [],
   "source": [
    "bilionarios['Industry'] = dados_2['Industry']\n"
   ]
  },
  {
   "cell_type": "code",
   "execution_count": 48,
   "metadata": {},
   "outputs": [
    {
     "data": {
      "text/html": [
       "<div>\n",
       "<style scoped>\n",
       "    .dataframe tbody tr th:only-of-type {\n",
       "        vertical-align: middle;\n",
       "    }\n",
       "\n",
       "    .dataframe tbody tr th {\n",
       "        vertical-align: top;\n",
       "    }\n",
       "\n",
       "    .dataframe thead th {\n",
       "        text-align: right;\n",
       "    }\n",
       "</style>\n",
       "<table border=\"1\" class=\"dataframe\">\n",
       "  <thead>\n",
       "    <tr style=\"text-align: right;\">\n",
       "      <th></th>\n",
       "      <th>Name</th>\n",
       "      <th>NetWorth</th>\n",
       "      <th>Country</th>\n",
       "      <th>Source</th>\n",
       "      <th>Rank</th>\n",
       "      <th>Age</th>\n",
       "      <th>Residence</th>\n",
       "      <th>Citizenship</th>\n",
       "      <th>Status</th>\n",
       "      <th>Children</th>\n",
       "      <th>Education</th>\n",
       "      <th>Self_made</th>\n",
       "      <th>Industry</th>\n",
       "    </tr>\n",
       "  </thead>\n",
       "  <tbody>\n",
       "    <tr>\n",
       "      <th>0</th>\n",
       "      <td>Jeff Bezos</td>\n",
       "      <td>177.0</td>\n",
       "      <td>United States</td>\n",
       "      <td>Amazon</td>\n",
       "      <td>1</td>\n",
       "      <td>57.0</td>\n",
       "      <td>Seattle, Washington</td>\n",
       "      <td>United States</td>\n",
       "      <td>In Relationship</td>\n",
       "      <td>4.0</td>\n",
       "      <td>Bachelor of Arts/Science, Princeton University</td>\n",
       "      <td>True</td>\n",
       "      <td>Technology</td>\n",
       "    </tr>\n",
       "    <tr>\n",
       "      <th>1</th>\n",
       "      <td>Elon Musk</td>\n",
       "      <td>151.0</td>\n",
       "      <td>United States</td>\n",
       "      <td>Tesla, SpaceX</td>\n",
       "      <td>2</td>\n",
       "      <td>49.0</td>\n",
       "      <td>Austin, Texas</td>\n",
       "      <td>United States</td>\n",
       "      <td>In Relationship</td>\n",
       "      <td>7.0</td>\n",
       "      <td>Bachelor of Arts/Science, University of Pennsy...</td>\n",
       "      <td>True</td>\n",
       "      <td>Automotive</td>\n",
       "    </tr>\n",
       "    <tr>\n",
       "      <th>2</th>\n",
       "      <td>Bernard Arnault &amp; family</td>\n",
       "      <td>150.0</td>\n",
       "      <td>France</td>\n",
       "      <td>LVMH</td>\n",
       "      <td>3</td>\n",
       "      <td>72.0</td>\n",
       "      <td>Paris, France</td>\n",
       "      <td>France</td>\n",
       "      <td>Married</td>\n",
       "      <td>5.0</td>\n",
       "      <td>Bachelor of Arts/Science, Ecole Polytechnique ...</td>\n",
       "      <td>False</td>\n",
       "      <td>Fashion &amp; Retail</td>\n",
       "    </tr>\n",
       "    <tr>\n",
       "      <th>3</th>\n",
       "      <td>Bill Gates</td>\n",
       "      <td>124.0</td>\n",
       "      <td>United States</td>\n",
       "      <td>Microsoft</td>\n",
       "      <td>4</td>\n",
       "      <td>65.0</td>\n",
       "      <td>Medina, Washington</td>\n",
       "      <td>United States</td>\n",
       "      <td>Divorced</td>\n",
       "      <td>3.0</td>\n",
       "      <td>Drop Out, Harvard University</td>\n",
       "      <td>True</td>\n",
       "      <td>Technology</td>\n",
       "    </tr>\n",
       "    <tr>\n",
       "      <th>4</th>\n",
       "      <td>Mark Zuckerberg</td>\n",
       "      <td>97.0</td>\n",
       "      <td>United States</td>\n",
       "      <td>Facebook</td>\n",
       "      <td>5</td>\n",
       "      <td>36.0</td>\n",
       "      <td>Palo Alto, California</td>\n",
       "      <td>United States</td>\n",
       "      <td>Married</td>\n",
       "      <td>2.0</td>\n",
       "      <td>Drop Out, Harvard University</td>\n",
       "      <td>True</td>\n",
       "      <td>Technology</td>\n",
       "    </tr>\n",
       "    <tr>\n",
       "      <th>...</th>\n",
       "      <td>...</td>\n",
       "      <td>...</td>\n",
       "      <td>...</td>\n",
       "      <td>...</td>\n",
       "      <td>...</td>\n",
       "      <td>...</td>\n",
       "      <td>...</td>\n",
       "      <td>...</td>\n",
       "      <td>...</td>\n",
       "      <td>...</td>\n",
       "      <td>...</td>\n",
       "      <td>...</td>\n",
       "      <td>...</td>\n",
       "    </tr>\n",
       "    <tr>\n",
       "      <th>2750</th>\n",
       "      <td>Daniel Yong Zhang</td>\n",
       "      <td>1.0</td>\n",
       "      <td>China</td>\n",
       "      <td>e-commerce</td>\n",
       "      <td>2674</td>\n",
       "      <td>49.0</td>\n",
       "      <td>Hangzhou, China</td>\n",
       "      <td>China</td>\n",
       "      <td>NaN</td>\n",
       "      <td>NaN</td>\n",
       "      <td>NaN</td>\n",
       "      <td>True</td>\n",
       "      <td>Technology</td>\n",
       "    </tr>\n",
       "    <tr>\n",
       "      <th>2751</th>\n",
       "      <td>Zhang Yuqiang</td>\n",
       "      <td>1.0</td>\n",
       "      <td>China</td>\n",
       "      <td>Fiberglass</td>\n",
       "      <td>2674</td>\n",
       "      <td>65.0</td>\n",
       "      <td>Tongxiang, China</td>\n",
       "      <td>China</td>\n",
       "      <td>NaN</td>\n",
       "      <td>NaN</td>\n",
       "      <td>NaN</td>\n",
       "      <td>True</td>\n",
       "      <td>Manufacturing</td>\n",
       "    </tr>\n",
       "    <tr>\n",
       "      <th>2752</th>\n",
       "      <td>Zhao Meiguang</td>\n",
       "      <td>1.0</td>\n",
       "      <td>China</td>\n",
       "      <td>gold mining</td>\n",
       "      <td>2674</td>\n",
       "      <td>58.0</td>\n",
       "      <td>Jilin, China</td>\n",
       "      <td>China</td>\n",
       "      <td>NaN</td>\n",
       "      <td>NaN</td>\n",
       "      <td>NaN</td>\n",
       "      <td>True</td>\n",
       "      <td>Metals &amp; Mining</td>\n",
       "    </tr>\n",
       "    <tr>\n",
       "      <th>2753</th>\n",
       "      <td>Zhong Naixiong</td>\n",
       "      <td>1.0</td>\n",
       "      <td>China</td>\n",
       "      <td>conglomerate</td>\n",
       "      <td>2674</td>\n",
       "      <td>58.0</td>\n",
       "      <td>Foshan, China</td>\n",
       "      <td>China</td>\n",
       "      <td>NaN</td>\n",
       "      <td>NaN</td>\n",
       "      <td>NaN</td>\n",
       "      <td>True</td>\n",
       "      <td>Diversified</td>\n",
       "    </tr>\n",
       "    <tr>\n",
       "      <th>2754</th>\n",
       "      <td>Zhou Wei family</td>\n",
       "      <td>1.0</td>\n",
       "      <td>China</td>\n",
       "      <td>Software</td>\n",
       "      <td>2674</td>\n",
       "      <td>54.0</td>\n",
       "      <td>Shanghai, China</td>\n",
       "      <td>China</td>\n",
       "      <td>Married</td>\n",
       "      <td>NaN</td>\n",
       "      <td>NaN</td>\n",
       "      <td>True</td>\n",
       "      <td>Technology</td>\n",
       "    </tr>\n",
       "  </tbody>\n",
       "</table>\n",
       "<p>2755 rows × 13 columns</p>\n",
       "</div>"
      ],
      "text/plain": [
       "                          Name  NetWorth        Country         Source  Rank  \\\n",
       "0                   Jeff Bezos     177.0  United States         Amazon     1   \n",
       "1                    Elon Musk     151.0  United States  Tesla, SpaceX     2   \n",
       "2     Bernard Arnault & family     150.0         France           LVMH     3   \n",
       "3                   Bill Gates     124.0  United States      Microsoft     4   \n",
       "4              Mark Zuckerberg      97.0  United States       Facebook     5   \n",
       "...                        ...       ...            ...            ...   ...   \n",
       "2750         Daniel Yong Zhang       1.0          China     e-commerce  2674   \n",
       "2751             Zhang Yuqiang       1.0          China     Fiberglass  2674   \n",
       "2752             Zhao Meiguang       1.0          China    gold mining  2674   \n",
       "2753            Zhong Naixiong       1.0          China   conglomerate  2674   \n",
       "2754           Zhou Wei family       1.0          China       Software  2674   \n",
       "\n",
       "       Age              Residence    Citizenship           Status  Children  \\\n",
       "0     57.0    Seattle, Washington  United States  In Relationship       4.0   \n",
       "1     49.0          Austin, Texas  United States  In Relationship       7.0   \n",
       "2     72.0          Paris, France         France          Married       5.0   \n",
       "3     65.0     Medina, Washington  United States         Divorced       3.0   \n",
       "4     36.0  Palo Alto, California  United States          Married       2.0   \n",
       "...    ...                    ...            ...              ...       ...   \n",
       "2750  49.0        Hangzhou, China          China              NaN       NaN   \n",
       "2751  65.0       Tongxiang, China          China              NaN       NaN   \n",
       "2752  58.0           Jilin, China          China              NaN       NaN   \n",
       "2753  58.0          Foshan, China          China              NaN       NaN   \n",
       "2754  54.0        Shanghai, China          China          Married       NaN   \n",
       "\n",
       "                                              Education Self_made  \\\n",
       "0        Bachelor of Arts/Science, Princeton University      True   \n",
       "1     Bachelor of Arts/Science, University of Pennsy...      True   \n",
       "2     Bachelor of Arts/Science, Ecole Polytechnique ...     False   \n",
       "3                          Drop Out, Harvard University      True   \n",
       "4                          Drop Out, Harvard University      True   \n",
       "...                                                 ...       ...   \n",
       "2750                                                NaN      True   \n",
       "2751                                                NaN      True   \n",
       "2752                                                NaN      True   \n",
       "2753                                                NaN      True   \n",
       "2754                                                NaN      True   \n",
       "\n",
       "              Industry  \n",
       "0           Technology  \n",
       "1           Automotive  \n",
       "2     Fashion & Retail  \n",
       "3           Technology  \n",
       "4           Technology  \n",
       "...                ...  \n",
       "2750        Technology  \n",
       "2751     Manufacturing  \n",
       "2752   Metals & Mining  \n",
       "2753       Diversified  \n",
       "2754        Technology  \n",
       "\n",
       "[2755 rows x 13 columns]"
      ]
     },
     "execution_count": 48,
     "metadata": {},
     "output_type": "execute_result"
    }
   ],
   "source": [
    "bilionarios"
   ]
  },
  {
   "cell_type": "code",
   "execution_count": 49,
   "metadata": {},
   "outputs": [
    {
     "data": {
      "text/plain": [
       "Index(['Algeria', 'Argentina', 'Australia', 'Austria', 'Belgium', 'Brazil',\n",
       "       'Canada', 'Chile', 'China', 'Colombia', 'Cyprus', 'Czechia', 'Denmark',\n",
       "       'Egypt', 'Eswatini (Swaziland)', 'Finland', 'France', 'Georgia',\n",
       "       'Germany', 'Greece', 'Guernsey', 'Hong Kong', 'Hungary', 'Iceland',\n",
       "       'India', 'Indonesia', 'Ireland', 'Israel', 'Italy', 'Japan',\n",
       "       'Kazakhstan', 'Lebanon', 'Liechtenstein', 'Macao', 'Malaysia', 'Mexico',\n",
       "       'Monaco', 'Morocco', 'Nepal', 'Netherlands', 'New Zealand', 'Nigeria',\n",
       "       'Norway', 'Oman', 'Peru', 'Philippines', 'Poland', 'Portugal', 'Qatar',\n",
       "       'Romania', 'Russia', 'Singapore', 'Slovakia', 'South Africa',\n",
       "       'South Korea', 'Spain', 'St. Kitts and Nevis', 'Sweden', 'Switzerland',\n",
       "       'Taiwan', 'Tanzania', 'Thailand', 'Turkey', 'Ukraine',\n",
       "       'United Arab Emirates', 'United Kingdom', 'United States', 'Venezuela',\n",
       "       'Vietnam', 'Zimbabwe'],\n",
       "      dtype='object')"
      ]
     },
     "execution_count": 49,
     "metadata": {},
     "output_type": "execute_result"
    }
   ],
   "source": [
    "#country\n",
    "bilionarios['Country'] = bilionarios['Country'].astype('category')\n",
    "\n",
    "#source\n",
    "bilionarios['Source'] = bilionarios['Source'].astype('category')\n",
    "\n",
    "#residence\n",
    "bilionarios['Residence'] = bilionarios['Residence'].astype('category')\n",
    "\n",
    "#citizenship\n",
    "bilionarios['Citizenship'] = bilionarios['Citizenship'].astype('category')\n",
    "\n",
    "#status\n",
    "bilionarios['Status'] = bilionarios['Status'].astype('category')\n",
    "\n",
    "#education\n",
    "bilionarios['Education'] = bilionarios['Education'].astype('category')\n",
    "\n",
    "#industry\n",
    "bilionarios['Industry'] = bilionarios['Industry'].astype('category')\n",
    "\n",
    "#teste\n",
    "bilionarios['Citizenship'].cat.categories"
   ]
  },
  {
   "cell_type": "markdown",
   "metadata": {},
   "source": [
    "### Variáveis da base de dados\n",
    "- **Name**: nome do bilionário;\n",
    "- **NetWorth**: fortuna, em bilhões de dólares;\n",
    "- **Country**: país sede da empresa;\n",
    "- **Source**: fonte da fortuna;\n",
    "- **Rank**: ranking da Forbes;\n",
    "- **Age**: idade;\n",
    "- **Residence**: local da residência;\n",
    "- **Citizenship**: cidadania;\n",
    "- **Status**: estado civil;\n",
    "- **Children**: número de filhos;\n",
    "- **Education**: curso e universidade;\n",
    "- **Self_made**: self made ou não;\n",
    "- **Industry**: indústria de atuação;"
   ]
  },
  {
   "cell_type": "code",
   "execution_count": 50,
   "metadata": {},
   "outputs": [],
   "source": [
    "# lista_curso = []\n",
    "# lista_college = []\n",
    "# lista_doiscu= []\n",
    "# lista_doisco = []\n",
    "\n",
    "\n",
    "\n",
    "\n",
    "# for v in bilionarios['Education']:\n",
    "#     if v != '0':\n",
    "#         if ';' in list(str(v)):\n",
    "#             y = v.split(';')\n",
    "#             z = y[0].split(',')\n",
    "#             p = y[1].split(',')\n",
    "#             lista_doiscu.append(z[0])\n",
    "#             lista_doiscu.append(z[1])\n",
    "#             lista_doisco.append(p[0])\n",
    "#             lista_doisco.append(p[1])\n",
    "            \n",
    "#             lista_curso.append(lista_doiscu)\n",
    "#             lista_college.append(lista_doisco)\n",
    "            \n",
    "#         else:\n",
    "#             y = v.split(',')\n",
    "#             lista_curso.append(y[0])\n",
    "#             lista_college.append(y[1])\n",
    "    \n",
    "#     elif v == '0':\n",
    "#         lista_curso.append('No info')\n",
    "#         lista_college.append('No info')\n",
    "    \n",
    "        \n",
    "        "
   ]
  },
  {
   "cell_type": "code",
   "execution_count": 51,
   "metadata": {},
   "outputs": [],
   "source": [
    "# lista_curso = []\n",
    "# lista_college = []\n",
    "\n",
    "# for v in bilionarios['Education']:\n",
    "#     if ';' in list(v):\n",
    "#         lista_sup_curso = []\n",
    "#         lista_sup_college = []\n",
    "#         p = v.split(';')\n",
    "#         for i in p:\n",
    "#             i.split(',')\n",
    "#             lista_sup_curso.append(i[0])\n",
    "#             lista_sup_college.append(i[1])\n",
    "#         lista_curso.append(lista_sup_curso)\n",
    "#         lista_college.append(lista_sup_college)\n",
    "#     else:\n",
    "#         if v == 'No info':\n",
    "#             lista_curso.append('No info')\n",
    "#             lista_college.append('No info')\n",
    "#         else:\n",
    "#             p = v.split(',')\n",
    "#             lista_curso.append(p[0])\n",
    "#             lista_college.append(p[1])"
   ]
  },
  {
   "cell_type": "markdown",
   "metadata": {},
   "source": [
    "## Análise Exploratória"
   ]
  },
  {
   "cell_type": "markdown",
   "metadata": {},
   "source": [
    "### NetWorth"
   ]
  },
  {
   "cell_type": "code",
   "execution_count": 52,
   "metadata": {},
   "outputs": [
    {
     "data": {
      "text/plain": [
       "count    2755.000000\n",
       "mean        4.749220\n",
       "std         9.615358\n",
       "min         1.000000\n",
       "25%         1.500000\n",
       "50%         2.300000\n",
       "75%         4.200000\n",
       "max       177.000000\n",
       "Name: NetWorth, dtype: float64"
      ]
     },
     "execution_count": 52,
     "metadata": {},
     "output_type": "execute_result"
    }
   ],
   "source": [
    "bilionarios.NetWorth.describe()"
   ]
  },
  {
   "cell_type": "code",
   "execution_count": 53,
   "metadata": {},
   "outputs": [
    {
     "data": {
      "image/png": "[encoded data removed]",
      "text/plain": [
       "<Figure size 1440x1440 with 1 Axes>"
      ]
     },
     "metadata": {
      "needs_background": "light"
     },
     "output_type": "display_data"
    }
   ],
   "source": [
    "faixa = np.arange(1,180,1)\n",
    "fig = plt.figure(figsize=(20,20))\n",
    "bilionarios.NetWorth.plot.hist(bins=faixa, color =('green'),density=1,title = \"NetWorth\", alpha = 0.6)\n",
    "plt.ylabel('Densidade')\n",
    "plt.xlabel('Fortuna em bilhões')\n",
    "plt.show()"
   ]
  },
  {
   "cell_type": "code",
   "execution_count": 54,
   "metadata": {},
   "outputs": [
    {
     "data": {
      "text/plain": [
       "1.1      150\n",
       "1.2      146\n",
       "1.4      122\n",
       "1.3      115\n",
       "1.5      106\n",
       "        ... \n",
       "17.5       1\n",
       "20.5       1\n",
       "44.1       1\n",
       "31.7       1\n",
       "177.0      1\n",
       "Name: NetWorth, Length: 245, dtype: int64"
      ]
     },
     "execution_count": 54,
     "metadata": {},
     "output_type": "execute_result"
    }
   ],
   "source": [
    "y = bilionarios.NetWorth.value_counts()\n",
    "x = bilionarios.NetWorth.value_counts().index.values\n",
    "#x.sort()\n",
    "#x\n",
    "y"
   ]
  },
  {
   "cell_type": "code",
   "execution_count": 55,
   "metadata": {},
   "outputs": [
    {
     "data": {
      "image/png": "[encoded data removed]",
      "text/plain": [
       "<Figure size 2520x288 with 1 Axes>"
      ]
     },
     "metadata": {
      "needs_background": "light"
     },
     "output_type": "display_data"
    }
   ],
   "source": [
    "plt.figure(figsize=(35,4))\n",
    "\n",
    "plt.bar(y,x)\n",
    "plt.show()"
   ]
  },
  {
   "cell_type": "code",
   "execution_count": 58,
   "metadata": {},
   "outputs": [
    {
     "data": {
      "image/png": "[encoded data removed]",
      "text/plain": [
       "<Figure size 2520x288 with 1 Axes>"
      ]
     },
     "metadata": {
      "needs_background": "light"
     },
     "output_type": "display_data"
    }
   ],
   "source": [
    "plt.figure(figsize=(35,4))\n",
    "\n",
    "plt.bar(x1,y1)\n",
    "plt.show()"
   ]
  },
  {
   "cell_type": "code",
   "execution_count": 57,
   "metadata": {},
   "outputs": [],
   "source": [
    "y1 = bilionarios.Industry.value_counts()\n",
    "x1 = bilionarios.Industry.value_counts().index.values"
   ]
  },
  {
   "cell_type": "code",
   "execution_count": null,
   "metadata": {},
   "outputs": [],
   "source": []
  }
 ],
 "metadata": {
  "kernelspec": {
   "display_name": "Python 3",
   "language": "python",
   "name": "python3"
  },
  "language_info": {
   "codemirror_mode": {
    "name": "ipython",
    "version": 3
   },
   "file_extension": ".py",
   "mimetype": "text/x-python",
   "name": "python",
   "nbconvert_exporter": "python",
   "pygments_lexer": "ipython3",
   "version": "3.7.6"
  }
 },
 "nbformat": 4,
 "nbformat_minor": 4
}
